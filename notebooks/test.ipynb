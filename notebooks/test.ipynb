{
 "cells": [
  {
   "cell_type": "code",
   "execution_count": null,
   "metadata": {},
   "outputs": [],
   "source": [
    "import scipy.signal\n",
    "import torch\n",
    "from src.utils.fourier import dft, idft\n",
    "import matplotlib.pyplot as plt\n",
    "import scipy\n",
    "import numpy as np\n",
    "# from src.utils.filters import MovingAvg\n",
    "from src.utils.fourier import sphere2complex, complex2sphere\n",
    "\n",
    "# def moving_average_freq_response(N, sample_rate, freq):\n",
    "#     omega = 2 * torch.pi * freq / sample_rate\n",
    "#     # SMA coefficients\n",
    "#     b = np.ones(N)\n",
    "#     a = np.array([N] + [0]*(N-1))\n",
    "\n",
    "#     # Calculate the frequency response\n",
    "#     w, h = scipy.signal.freqz(b, a, worN=omega)\n",
    "#     # w *= sample_rate / (2 * np.pi)                      # Convert from rad/sample to Hz\n",
    "#     return h\n",
    "\n",
    "def moving_average_freq_response(N, sample_rate, freq):\n",
    "    omega = 2 * torch.pi * freq / sample_rate\n",
    "    coeff = torch.exp(-1j * omega * (N - 1) / 2) / N\n",
    "    omega = torch.where(omega == 0, 1e-5, omega)\n",
    "    Hw = coeff * torch.sin(omega * N / 2) / torch.sin(omega / 2)\n",
    "    # Hw = Hw*torch.exp(1j*omega*N)\n",
    "    return Hw\n",
    "\n",
    "# def moving_avg(x, N):\n",
    "#     avg = torch.nn.AvgPool1d(kernel_size=N, stride=1)\n",
    "#     front = x[:, 0:1, :].repeat(1, N // 2, 1)\n",
    "#     end = x[:, -1:, :].repeat(1, N - 1 - N // 2, 1)\n",
    "#     x = torch.cat([front, x, end], dim=1)\n",
    "#     x = avg(x.permute(0, 2, 1))\n",
    "#     x = x.permute(0, 2, 1)\n",
    "#     return x\n",
    "\n"
   ]
  },
  {
   "cell_type": "markdown",
   "metadata": {},
   "source": [
    "original signal"
   ]
  },
  {
   "cell_type": "code",
   "execution_count": null,
   "metadata": {},
   "outputs": [],
   "source": [
    "t = torch.linspace(0, 4*torch.pi, 200)\n",
    "sample_rate = len(t)/(t.max()-t.min())\n",
    "x = torch.sin(t) + torch.sin(2*t) + 0.3*torch.sin(12*t) - 10\n",
    "x_freq = torch.fft.rfft(x)\n",
    "\n",
    "theta, phi = complex2sphere(x_freq.real, x_freq.imag)\n",
    "\n",
    "freq = torch.fft.rfftfreq(len(t), 1/sample_rate)\n",
    "mag = x_freq.abs()\n",
    "phase = x_freq.angle()\n",
    "phase[torch.abs(phase) < 1] = 0\n",
    "fig, axs = plt.subplots(2)\n",
    "axs[0].plot(t, x)\n",
    "axs[1].plot(freq, x_freq.abs())\n",
    "axs[1].set_yscale('log')\n",
    "# axs[1].set_xscale('log')\n",
    "# axs[2].plot(freq, x_freq.angle())\n",
    "# axs[1].plot(freq, theta)\n",
    "# axs[2].plot(freq, phi)\n",
    "fig.tight_layout()\n",
    "\n"
   ]
  },
  {
   "cell_type": "markdown",
   "metadata": {},
   "source": [
    "manuplate on the frequency domain"
   ]
  },
  {
   "cell_type": "code",
   "execution_count": null,
   "metadata": {},
   "outputs": [],
   "source": [
    "N = 50\n",
    "h = moving_average_freq_response(N, sample_rate=sample_rate, freq=freq)\n",
    "x_freq_new = x_freq * h\n",
    "# x_freq_new = x_freq * h * torch.exp(torch.tensor(-1j*N))\n",
    "mag = x_freq_new.abs()\n",
    "phase = x_freq_new.angle()\n",
    "x_new = torch.fft.irfft(x_freq_new)\n",
    "x_new_avgpool = torch.nn.functional.avg_pool1d(x.reshape(1,1,-1), N,N).permute(0,2,1)\n",
    "fig, axs = plt.subplots(2)\n",
    "# axs[0].plot(x_new)\n",
    "axs[0].plot(t, x_new)\n",
    "# axs[0].scatter(t[N-1::N],x_new[N-1::N])\n",
    "# axs[0].scatter(t[N-1::N], x_new_avgpool.flatten())\n",
    "axs[1].plot(freq, mag)\n",
    "axs[1].set_yscale('log')\n",
    "# axs[1].set_xscale('log')\n",
    "# axs[2].plot(freq, phase)"
   ]
  },
  {
   "cell_type": "markdown",
   "metadata": {},
   "source": [
    "manuplate on the time domain"
   ]
  },
  {
   "cell_type": "code",
   "execution_count": null,
   "metadata": {},
   "outputs": [],
   "source": [
    "from src.utils.filters import MovingAvgTime\n",
    "\n",
    "\n",
    "x_new = MovingAvgTime(N)(x.reshape(1,-1,1))\n",
    "# x_new = np.convolve(np.concatenate([x[-N+1:],x]), np.ones(N)/N, mode='valid')\n",
    "x_freq = torch.fft.rfft(x_new.flatten())\n",
    "freq = torch.fft.rfftfreq(len(t), 1/sample_rate)\n",
    "mag = x_freq.abs()\n",
    "phase = x_freq.angle()\n",
    "\n",
    "# mag = x_freq_new.abs()\n",
    "# phase = x_freq_new.angle()\n",
    "# # print(phase)\n",
    "# x = torch.fft.irfft(x_freq_new)\n",
    "# print(x_new[N//2:-N//2])\n",
    "fig, axs = plt.subplots(3)\n",
    "axs[0].plot(x_new.flatten())\n",
    "axs[1].plot(freq, mag)\n",
    "axs[1].set_yscale('log')\n",
    "# axs[1].set_xscale('log')\n",
    "axs[2].plot(freq, phase)\n",
    "fig.tight_layout()"
   ]
  },
  {
   "cell_type": "code",
   "execution_count": null,
   "metadata": {},
   "outputs": [],
   "source": [
    "class FreqLinear(torch.nn.Module):\n",
    "    def __init__(self, in_channels, fft_len, kernal_size) -> None:\n",
    "        super().__init__()\n",
    "        self.kernel = torch.nn.Parameter(\n",
    "            torch.complex(\n",
    "                torch.ones(fft_len, kernal_size), torch.zeros(fft_len, kernal_size)\n",
    "            ),\n",
    "            requires_grad=True,\n",
    "        )\n",
    "        self.linear = torch.nn.Linear(kernal_size * in_channels , in_channels).to(torch.cfloat)\n",
    "        self.in_channels= in_channels\n",
    "        self.fft_len = fft_len\n",
    "        \n",
    "    def forward(self, x):\n",
    "        # x = x.permute(0,2,1)\n",
    "        x = torch.fft.rfft(x, norm=\"ortho\", dim=1)\n",
    "        x_channels = []\n",
    "        for i in range(x.shape[-1]):\n",
    "            x_channels.append(x[...,[i]] * self.kernel)\n",
    "        x = torch.concat(x_channels, dim=-1)\n",
    "        x = self.linear(x)\n",
    "        # x = self.linear(x.flatten()).reshape(-1, self.fft_len, self.in_channels)\n",
    "        x = torch.fft.irfft(x, norm=\"ortho\", dim=1)\n",
    "        return x\n",
    "\n",
    "\n",
    "class TimeConv(torch.nn.Module):\n",
    "    def __init__(self, in_channel) -> None:\n",
    "        super().__init__()\n",
    "        self.conv = torch.nn.Conv1d(\n",
    "            in_channel, out_channels=in_channel, kernel_size=3, bias=False, padding=1\n",
    "        )\n",
    "\n",
    "    def forward(self, x):\n",
    "        # x = x.permute(0,2,1)\n",
    "        x = self.conv(x)\n",
    "        return x\n",
    "\n",
    "\n",
    "x = torch.sin(torch.arange(288) / 100).reshape(1, -1, 2)\n",
    "m = FreqLinear(in_channels=x.shape[-1], fft_len=x.shape[1]//2+1, kernal_size=10)\n",
    "for p in m.parameters():\n",
    "    print(p.numel())\n",
    "y = torch.ones_like(x)\n",
    "loss_fn = torch.nn.MSELoss()\n",
    "loss = loss_fn(y, m(x))\n",
    "loss.backward()\n",
    "\n",
    "# x = x.repeat(2,1,1)\n",
    "# kernel = torch.rand(x.shape[1] // 2 + 1, 3)\n",
    "# x = torch.fft.rfft(x, dim=1)\n",
    "# print(x)\n",
    "# print(kernel)\n",
    "# print(x.shape)\n",
    "# print(kernel.shape)\n",
    "# x * kernel"
   ]
  },
  {
   "cell_type": "code",
   "execution_count": null,
   "metadata": {},
   "outputs": [],
   "source": [
    "import torch\n",
    "x = torch.ones(100) * 10\n",
    "# x = torch.randn(1000)\n",
    "# x = torch.sin(torch.arange(314 * 4) / 100)\n",
    "x_fft = torch.fft.rfft(x)\n",
    "plt.plot(x_fft.abs())\n",
    "plt.yscale(\"log\")\n",
    "x_fft = x_fft + torch.randn_like(x_fft,dtype=torch.cfloat)\n",
    "# plt.xscale(\"log\")\n",
    "plt.plot(x_fft.abs())\n",
    "\n",
    "fig = plt.figure()\n",
    "x = torch.fft.irfft(x_fft)\n",
    "plt.plot(x)"
   ]
  },
  {
   "cell_type": "code",
   "execution_count": null,
   "metadata": {},
   "outputs": [],
   "source": [
    "import torch\n",
    "def moving_average_1d(data: torch.Tensor, kernel_size:int, stride:int=1):\n",
    "    # Unfold the data tensor to create a windowed view\n",
    "    unfolded_data = data.unfold(1, kernel_size, stride)\n",
    "    print(unfolded_data.shape)\n",
    "    \n",
    "    # Create a kernel tensor for matrix multiplication\n",
    "    kernel = torch.ones(kernel_size) / kernel_size\n",
    "    \n",
    "    # Perform matrix multiplication\n",
    "    moving_averages_unfolded = unfolded_data @ kernel\n",
    "    \n",
    "    # # Pad the moving averages tensor to match the original data size\n",
    "    # padding = kernel_size - 1\n",
    "    # moving_averages_padded = torch.cat((torch.zeros(padding), moving_averages_unfolded))\n",
    "    \n",
    "    # Fold the moving averages tensor to get the final result\n",
    "    # moving_averages = moving_averages_padded.view(-1)\n",
    "    \n",
    "    return moving_averages_unfolded\n",
    "\n",
    "# Example usage\n",
    "data = torch.arange(60).float().reshape(2,-1,3)  # 1D tensor with 10 elements\n",
    "kernel_size = 5\n",
    "\n",
    "moving_averages = moving_average_1d(data, kernel_size)\n",
    "print(moving_averages)  # Output: torch.Size([10])"
   ]
  },
  {
   "cell_type": "code",
   "execution_count": null,
   "metadata": {},
   "outputs": [],
   "source": [
    "from src.schedules.collection import linear_schedule\n",
    "import torch\n",
    "import matplotlib.pyplot as plt\n",
    "import pandas as pd\n",
    "from src.utils.filters import MovingAvgTime, MovingAvgFreq\n",
    "from src.utils.fourier import complex2sphere, sphere2complex\n",
    "from scipy.stats import norm\n",
    "\n",
    "df = pd.read_csv(\n",
    "    \"/home/user/data/FrequencyDiffusion/dataset/MFRED_clean.csv\",\n",
    "    index_col=0,\n",
    "    parse_dates=True,\n",
    ")[[\"value\"]]\n",
    "df = df[:288]\n",
    "x = torch.from_numpy(df.values).reshape(1, -1, 1)\n",
    "\n",
    "\n",
    "# x_norm_fft = torch.fft.rfft(x_norm, dim=1, norm=\"ortho\")\n",
    "# plt.plot(dct(x, norm='ortho').flatten())\n",
    "# plt.yscale('log')\n",
    "\n",
    "# x_norm = (x - x.mean(dim=1)) / torch.sqrt(x.var(dim=1))\n",
    "freq = torch.fft.rfftfreq(x.shape[1])\n",
    "print(freq.shape)\n",
    "# fig, ax = plt.subplots()\n",
    "# ax.plot(torch.concat([x_fft.real, x_fft.imag[:,1:-1,:]], dim=1).flatten())\n",
    "# fig.savefig(\"noisy_0.png\")\n",
    "# plt.close()\n",
    "\n",
    "mat = [MovingAvgFreq(i, freq=freq).Hw for i in range(2, x.shape[1] + 1)]\n",
    "mat = torch.concat(mat)\n",
    "fig, axs = plt.subplots(2)\n",
    "for i in range(len(freq)):\n",
    "    axs[0].plot(mat[:,i,:].real)\n",
    "    axs[1].plot(mat[:,i,:].imag)\n",
    "    \n",
    "    \n",
    "# mat = [MovingAvgTime(i) for i in range(2, x.shape[1] + 1)]\n",
    "# T = len(mat)\n",
    "# _, _, alpha_bars = linear_schedule(0, 0, T)\n",
    "# betas = torch.sqrt(1 - alpha_bars)\n",
    "# betas\n",
    "\n",
    "# plt.plot(betas)\n",
    "# for i, degrade_fn in enumerate(mat):\n",
    "#     # x_noisy = degrade_fn(x)\n",
    "#     x_noisy = degrade_fn(x_fft) + torch.randn_like(x_fft) * betas[i]\n",
    "#     # x_noisy = degrade_fn(x) + torch.randn_like(x) * betas[i]\n",
    "#     fig, ax = plt.subplots()\n",
    "#     ax.plot(torch.concat([x_noisy.real, x_noisy.imag[:,1:-1,:]], dim=1).flatten())\n",
    "#     fig.savefig(f\"noisy_{i+1}.png\")\n",
    "#     plt.close()\n",
    "#     # if i == (T - 1):\n",
    "#     #     print(norm.fit(x_noisy.numpy().flatten()))"
   ]
  },
  {
   "cell_type": "code",
   "execution_count": 158,
   "metadata": {},
   "outputs": [
    {
     "name": "stdout",
     "output_type": "stream",
     "text": [
      "tensor(1.0010)\n",
      "tensor([-0.5161, -1.6560,  0.2909, -0.7210, -0.0479, -0.6449,  2.4352,  0.0246,\n",
      "         0.8283,  1.2174])\n",
      "tensor(0.7078)\n",
      "tensor([-0.5161, -1.6560,  0.2909, -0.7210, -0.0479, -0.6449,  2.4352,  0.0246,\n",
      "         0.8283,  1.2174])\n"
     ]
    },
    {
     "data": {
      "text/plain": [
       "tensor(4.3392e-05)"
      ]
     },
     "execution_count": 158,
     "metadata": {},
     "output_type": "execute_result"
    },
    {
     "data": {
      "image/png": "[encoded data removed]",
      "text/plain": [
       "<Figure size 640x480 with 1 Axes>"
      ]
     },
     "metadata": {},
     "output_type": "display_data"
    }
   ],
   "source": [
    "import torch\n",
    "import numpy as np\n",
    "from src.utils.fourier import dft, idft\n",
    "import matplotlib.pyplot as plt\n",
    "# Generate a random time-domain signal\n",
    "N = 100000  # Number of samples\n",
    "\n",
    "# signal = 2 * torch.sin(torch.linspace(0, 10, 1000))\n",
    "signal = torch.randn(N)\n",
    "print(torch.std(signal, unbiased=False))\n",
    "# signal = 2 * torch.sin(torch.linspace(0, 10, N))  + torch.randn(N) + 10\n",
    "signal_norm = (signal - torch.mean(signal)) / torch.std(signal, unbiased=False)\n",
    "print(signal_norm[:10])\n",
    "plt.plot(signal)\n",
    "\n",
    "# Compute the DFT of the signal using PyTorch's rfft function with norm='ortho'\n",
    "# x_fft = torch.fft.rfft(signal, norm='ortho')\n",
    "x_fft = dft(signal.reshape(1,-1,1), real_imag=True).flatten()\n",
    "print(torch.std(x_fft, unbiased=False))\n",
    "plt.plot(x_fft * 2**0.5)\n",
    "\n",
    "\n",
    "# Calculate the mean from the DFT coefficients\n",
    "mean = x_fft[0].real\n",
    "mean_minus = torch.concat([mean.reshape(-1,1), torch.zeros(len(x_fft)-1, 1)]).flatten()\n",
    "\n",
    "# Calculate the variance and standard deviation from the DFT coefficients\n",
    "energy_freq = torch.sum(torch.abs(x_fft[1:])**2) * 2 # Account for orthogonal normalization and one-sided representation\n",
    "adjusted_energy = energy_freq\n",
    "variance = adjusted_energy / (N)\n",
    "std_dev = torch.sqrt(variance)\n",
    "signal_fft_norm = (x_fft - mean_minus) / std_dev\n",
    "# inv_signal_fft_norm = torch.fft.irfft(signal_fft_norm, norm='ortho')\n",
    "inv_signal_fft_norm = idft(signal_fft_norm.reshape(1, -1, 1), real_imag=True).flatten()\n",
    "print(inv_signal_fft_norm[:10])\n",
    "# plt.plot(inv_signal_fft_norm)\n",
    "(inv_signal_fft_norm - signal_norm).max()\n",
    "\n",
    "\n",
    "# # Print the results\n",
    "# print(\"Mean (Time Domain):\", torch.mean(signal).item())\n",
    "# print(\"Mean (Frequency Domain):\", mean.item())\n",
    "# print(\"Standard Deviation (Time Domain):\", torch.std(signal).item())\n",
    "# print(\"Standard Deviation (Frequency Domain):\", std_dev.item())\n"
   ]
  },
  {
   "cell_type": "code",
   "execution_count": null,
   "metadata": {},
   "outputs": [],
   "source": [
    "import torch\n",
    "# from src.schedules.collection import linear_schedule, cosine_schedule\n",
    "from src.utils.filters import MovingAvgFreq, MovingAvgTime\n",
    "import matplotlib.pyplot as plt\n",
    "import pandas as pd\n",
    "\n",
    "df = pd.read_csv(\n",
    "    \"/home/user/data/FrequencyDiffusion/dataset/MFRED_clean.csv\",\n",
    "    index_col=0,\n",
    "    parse_dates=True,\n",
    ")[[\"value\"]]\n",
    "df = df[:288]\n",
    "x = torch.from_numpy(df.values).reshape(1, -1, 1)\n",
    "freq = torch.fft.rfftfreq(x.shape[1])\n",
    "x_freq = torch.fft.rfft(x, dim=1, norm='ortho')\n",
    "\n",
    "\n",
    "maf = MovingAvgFreq(1, freq=freq)\n",
    "x_freq_flt = maf(x_freq)\n",
    "x_freq_flt = torch.fft.irfft(x_freq_flt, dim=1, norm='ortho')[:,0::1,:]\n",
    "x_time_flt = torch.nn.functional.avg_pool1d(x.permute(0,2,1), 1, 1).permute(0,2,1)\n",
    "print(x_freq_flt)\n",
    "print(x_time_flt)\n",
    "plt.plot(x_freq_flt.flatten())\n",
    "plt.plot(x_time_flt.flatten())\n",
    "# mat = [MovingAvgTime(i) for i in range(2, x.shape[1] + 1)]\n",
    "\n",
    "# for i, degrade_fn in enumerate(mat):\n",
    "#     # x_noisy = degrade_fn(x)\n",
    "#     x_noisy = degrade_fn(x_fft) + torch.randn_like(x_fft) * betas[i]\n",
    "#     # x_noisy = degrade_fn(x) + torch.randn_like(x) * betas[i]\n",
    "#     fig, ax = plt.subplots()\n",
    "#     ax.plot(torch.concat([x_noisy.real, x_noisy.imag[:,1:-1,:]], dim=1).flatten())\n",
    "#     fig.savefig(f\"noisy_{i+1}.png\")\n",
    "#     plt.close()\n",
    "#     # if i == (T - 1):\n",
    "#     #     print(norm.fit(x_noisy.numpy().flatten()))"
   ]
  },
  {
   "cell_type": "code",
   "execution_count": null,
   "metadata": {},
   "outputs": [],
   "source": [
    "from src.utils.filters import MovingAvgTime, MovingAvgFreq\n",
    "import torch\n",
    "import matplotlib.pyplot as plt\n",
    "import pandas as pd\n",
    "from src.utils.filters import MovingAvgTime, MovingAvgFreq\n",
    "from src.utils.fourier import complex2sphere, sphere2complex\n",
    "from scipy.stats import norm\n",
    "\n",
    "df = pd.read_csv(\n",
    "    \"/home/user/data/FrequencyDiffusion/dataset/MFRED_clean.csv\",\n",
    "    index_col=0,\n",
    "    parse_dates=True,\n",
    ")[[\"value\"]]\n",
    "mode = \"linear\"\n",
    "df = df[:288]\n",
    "kernel_size = 84\n",
    "# x = torch.randn(12).reshape(1, -1, 1)\n",
    "x = torch.from_numpy(df.values).reshape(1, -1, 1)\n",
    "mat = MovingAvgTime(kernel_size, mode=mode)\n",
    "x_down_real = mat(x)\n",
    "mat_stride = torch.nn.AvgPool1d(kernel_size, kernel_size)\n",
    "x_down_real_stride = mat_stride(x.permute(0, 2, 1))\n",
    "\n",
    "rec = torch.nn.functional.interpolate(\n",
    "    x_down_real.reshape(1, 1, 1, -1).repeat(10,1,1,1), size=x.shape[1] - kernel_size + 1, mode=mode\n",
    ")\n",
    "real = x_down_real_stride.flatten()\n",
    "plt.plot(rec[:,0,0,::kernel_size])\n",
    "plt.plot(real.flatten())\n"
   ]
  },
  {
   "cell_type": "code",
   "execution_count": null,
   "metadata": {},
   "outputs": [],
   "source": [
    "import torch\n",
    "\n",
    "a = torch.randn(12).reshape(1, -1, 1).float()\n",
    "avg = torch.nn.AvgPool1d(3,3)\n",
    "a_avg = avg(a.permute(0,2,1)).permute(0,2,1)\n",
    "\n",
    "mean = torch.mean(a, dim=1, keepdim=True)\n",
    "stdev = torch.sqrt(torch.var(a, dim=1, keepdim=True, unbiased=False) + 1e-5)\n",
    "a_norm = (a - mean) / stdev\n",
    "a_norm_avg = avg(a_norm.permute(0,2,1)).permute(0,2,1)\n",
    "torch.allclose(a_norm_avg*stdev + mean, a_avg)"
   ]
  },
  {
   "cell_type": "code",
   "execution_count": 28,
   "metadata": {},
   "outputs": [
    {
     "name": "stdout",
     "output_type": "stream",
     "text": [
      "tensor([30.+0.0000j, -2.+10.0547j, -2.+4.8284j, -2.+2.9932j, -2.+2.0000j,\n",
      "        -2.+1.3364j, -2.+0.8284j, -2.+0.3978j, -2.+0.0000j])\n",
      "tensor([ -2.,  10.,  22.,  34.,  46.,  58.,  70.,  82.,  94., 106., 118., 130.,\n",
      "        142., 154., 166., 178.])\n",
      "tensor([352.+0.0000j, -24.+120.6561j, -24.+57.9411j, -24.+35.9185j,\n",
      "        -24.+24.0000j, -24.+16.0363j, -24.+9.9411j, -24.+4.7739j,\n",
      "        -24.+0.0000j])\n",
      "tensor([ -2.0000,  10.0000,  22.0000,  34.0000,  46.0000,  58.0000,  70.0000,\n",
      "         82.0000,  94.0000, 106.0000, 118.0000, 130.0000, 142.0000, 154.0000,\n",
      "        166.0000, 178.0000])\n"
     ]
    }
   ],
   "source": [
    "import torch\n",
    "a = torch.arange(16).float()\n",
    "\n",
    "a_fft_norm = torch.fft.rfft(a, norm='ortho')\n",
    "\n",
    "k1 = 12\n",
    "k2 = -2\n",
    "\n",
    "print(a_fft_norm)\n",
    "b = k1 * a + k2\n",
    "print(b)\n",
    "b_fft = a_fft_norm.clone() \n",
    "b_fft = b_fft * k1\n",
    "b_fft[0] += k2 * len(a) ** 0.5 \n",
    "print(b_fft)\n",
    "# print(b_fft)\n",
    "# print(b)\n",
    "print(torch.fft.irfft(b_fft, norm='ortho'))\n",
    "# torch.allclose(4*a, torch.fft.irfft(a_fft * 4))"
   ]
  },
  {
   "cell_type": "code",
   "execution_count": 15,
   "metadata": {},
   "outputs": [
    {
     "data": {
      "text/plain": [
       "[<matplotlib.lines.Line2D at 0x7feb0c837eb0>]"
      ]
     },
     "execution_count": 15,
     "metadata": {},
     "output_type": "execute_result"
    },
    {
     "data": {
      "image/png": "[encoded data removed]",
      "text/plain": [
       "<Figure size 640x480 with 1 Axes>"
      ]
     },
     "metadata": {},
     "output_type": "display_data"
    }
   ],
   "source": [
    "import torch\n",
    "from src.utils.schedule import linear_schedule, cosine_schedule\n",
    "import matplotlib.pyplot as plt\n",
    "\n",
    "_,_,_,a = linear_schedule(1e-4, 1e-2, 288)\n",
    "plt.plot(a)"
   ]
  },
  {
   "cell_type": "code",
   "execution_count": 44,
   "metadata": {},
   "outputs": [
    {
     "name": "stdout",
     "output_type": "stream",
     "text": [
      "tensor(28867.6582) tensor(49999.5000)\n",
      "tensor(28839.0781) tensor(49999.5000)\n"
     ]
    }
   ],
   "source": [
    "import torch\n",
    "\n",
    "ks = 100\n",
    "# a = torch.sin(torch.linspace(0, torch.pi * 2, 1000)).float()\n",
    "# a = a + torch.randn_like(a) * 0.1\n",
    "a = torch.arange(100000).float()\n",
    "a_std, a_mean = torch.std_mean(a)\n",
    "print(a_std, a_mean)\n",
    "a = torch.nn.functional.avg_pool1d(a.reshape(1, 1, -1), ks, 1).flatten()\n",
    "a_std, a_mean = torch.std_mean(a)\n",
    "print(a_std, a_mean)"
   ]
  },
  {
   "cell_type": "code",
   "execution_count": 76,
   "metadata": {},
   "outputs": [
    {
     "name": "stdout",
     "output_type": "stream",
     "text": [
      "tensor(3.4521)\n"
     ]
    },
    {
     "data": {
      "text/plain": [
       "tensor(3.4521)"
      ]
     },
     "execution_count": 76,
     "metadata": {},
     "output_type": "execute_result"
    }
   ],
   "source": [
    "import torch\n",
    "\n",
    "a = torch.arange(12).float()\n",
    "print((((a - a.mean())**2).sum()/(len(a))).sqrt())\n",
    "torch.std(a, unbiased=False)"
   ]
  }
 ],
 "metadata": {
  "kernelspec": {
   "display_name": "freqdiff",
   "language": "python",
   "name": "python3"
  },
  "language_info": {
   "codemirror_mode": {
    "name": "ipython",
    "version": 3
   },
   "file_extension": ".py",
   "mimetype": "text/x-python",
   "name": "python",
   "nbconvert_exporter": "python",
   "pygments_lexer": "ipython3",
   "version": "3.10.14"
  }
 },
 "nbformat": 4,
 "nbformat_minor": 2
}
