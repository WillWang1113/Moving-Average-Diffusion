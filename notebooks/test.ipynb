{
 "cells": [
  {
   "cell_type": "code",
   "execution_count": null,
   "metadata": {},
   "outputs": [],
   "source": [
    "class FreqLinear(torch.nn.Module):\n",
    "    def __init__(self, in_channels, fft_len, kernal_size) -> None:\n",
    "        super().__init__()\n",
    "        self.kernel = torch.nn.Parameter(\n",
    "            torch.complex(\n",
    "                torch.ones(fft_len, kernal_size), torch.zeros(fft_len, kernal_size)\n",
    "            ),\n",
    "            requires_grad=True,\n",
    "        )\n",
    "        self.linear = torch.nn.Linear(kernal_size * in_channels , in_channels).to(torch.cfloat)\n",
    "        self.in_channels= in_channels\n",
    "        self.fft_len = fft_len\n",
    "        \n",
    "    def forward(self, x):\n",
    "        # x = x.permute(0,2,1)\n",
    "        x = torch.fft.rfft(x, norm=\"ortho\", dim=1)\n",
    "        x_channels = []\n",
    "        for i in range(x.shape[-1]):\n",
    "            x_channels.append(x[...,[i]] * self.kernel)\n",
    "        x = torch.concat(x_channels, dim=-1)\n",
    "        x = self.linear(x)\n",
    "        # x = self.linear(x.flatten()).reshape(-1, self.fft_len, self.in_channels)\n",
    "        x = torch.fft.irfft(x, norm=\"ortho\", dim=1)\n",
    "        return x\n",
    "\n",
    "\n",
    "class TimeConv(torch.nn.Module):\n",
    "    def __init__(self, in_channel) -> None:\n",
    "        super().__init__()\n",
    "        self.conv = torch.nn.Conv1d(\n",
    "            in_channel, out_channels=in_channel, kernel_size=3, bias=False, padding=1\n",
    "        )\n",
    "\n",
    "    def forward(self, x):\n",
    "        # x = x.permute(0,2,1)\n",
    "        x = self.conv(x)\n",
    "        return x\n",
    "\n",
    "\n",
    "x = torch.sin(torch.arange(288) / 100).reshape(1, -1, 2)\n",
    "m = FreqLinear(in_channels=x.shape[-1], fft_len=x.shape[1]//2+1, kernal_size=10)\n",
    "for p in m.parameters():\n",
    "    print(p.numel())\n",
    "y = torch.ones_like(x)\n",
    "loss_fn = torch.nn.MSELoss()\n",
    "loss = loss_fn(y, m(x))\n",
    "loss.backward()\n",
    "\n",
    "# x = x.repeat(2,1,1)\n",
    "# kernel = torch.rand(x.shape[1] // 2 + 1, 3)\n",
    "# x = torch.fft.rfft(x, dim=1)\n",
    "# print(x)\n",
    "# print(kernel)\n",
    "# print(x.shape)\n",
    "# print(kernel.shape)\n",
    "# x * kernel"
   ]
  },
  {
   "cell_type": "code",
   "execution_count": null,
   "metadata": {},
   "outputs": [],
   "source": [
    "import torch\n",
    "\n",
    "a = torch.randn(12).reshape(1, -1, 1).float()\n",
    "avg = torch.nn.AvgPool1d(3,3)\n",
    "a_avg = avg(a.permute(0,2,1)).permute(0,2,1)\n",
    "\n",
    "mean = torch.mean(a, dim=1, keepdim=True)\n",
    "stdev = torch.sqrt(torch.var(a, dim=1, keepdim=True, unbiased=False) + 1e-5)\n",
    "a_norm = (a - mean) / stdev\n",
    "a_norm_avg = avg(a_norm.permute(0,2,1)).permute(0,2,1)\n",
    "torch.allclose(a_norm_avg*stdev + mean, a_avg)"
   ]
  },
  {
   "cell_type": "code",
   "execution_count": null,
   "metadata": {},
   "outputs": [],
   "source": [
    "import torch\n",
    "a = torch.arange(16).float()\n",
    "\n",
    "a_fft_norm = torch.fft.rfft(a, norm='ortho')\n",
    "\n",
    "k1 = 12\n",
    "k2 = -2\n",
    "\n",
    "print(a_fft_norm)\n",
    "b = k1 * a + k2\n",
    "print(b)\n",
    "b_fft = a_fft_norm.clone() \n",
    "b_fft = b_fft * k1\n",
    "b_fft[0] += k2 * len(a) ** 0.5 \n",
    "print(b_fft)\n",
    "# print(b_fft)\n",
    "# print(b)\n",
    "print(torch.fft.irfft(b_fft, norm='ortho'))\n",
    "# torch.allclose(4*a, torch.fft.irfft(a_fft * 4))"
   ]
  },
  {
   "cell_type": "code",
   "execution_count": null,
   "metadata": {},
   "outputs": [],
   "source": [
    "import torch\n",
    "from src.utils.schedule import linear_schedule, cosine_schedule\n",
    "import matplotlib.pyplot as plt\n",
    "\n",
    "_,_,_,a = linear_schedule(1e-4, 1e-2, 288)\n",
    "plt.plot(a)"
   ]
  },
  {
   "cell_type": "code",
   "execution_count": null,
   "metadata": {},
   "outputs": [],
   "source": [
    "import torch\n",
    "\n",
    "ks = 100\n",
    "# a = torch.sin(torch.linspace(0, torch.pi * 2, 1000)).float()\n",
    "# a = a + torch.randn_like(a) * 0.1\n",
    "a = torch.arange(100000).float()\n",
    "a_std, a_mean = torch.std_mean(a)\n",
    "print(a_std, a_mean)\n",
    "a = torch.nn.functional.avg_pool1d(a.reshape(1, 1, -1), ks, 1).flatten()\n",
    "a_std, a_mean = torch.std_mean(a)\n",
    "print(a_std, a_mean)"
   ]
  },
  {
   "cell_type": "code",
   "execution_count": null,
   "metadata": {},
   "outputs": [],
   "source": [
    "import torch\n",
    "import matplotlib.pyplot as plt\n",
    "\n",
    "N = 1000\n",
    "a = torch.sin(torch.linspace(0, 100, N)) + torch.exp(torch.linspace(0, 100, N) / 50)\n",
    "\n",
    "plt.plot(a)\n",
    "a_fft = torch.fft.rfft(a)\n",
    "print(a_fft[0])\n",
    "# plt.plot(a_fft.real)\n",
    "# plt.plot(a_fft.imag)\n",
    "noise = torch.randn(N)\n",
    "a = a + noise\n",
    "plt.plot(a)\n",
    "a_fft = torch.fft.rfft(a)\n",
    "print(a_fft[0])\n",
    "print(torch.fft.rfft(noise)[0])\n",
    "# plt.plot(a_fft.real)\n",
    "# plt.plot(a_fft.imag)"
   ]
  },
  {
   "cell_type": "code",
   "execution_count": null,
   "metadata": {},
   "outputs": [],
   "source": [
    "from torch.utils.data import DataLoader\n",
    "from src.datamodule.data_loader import Dataset_Custom, Dataset_ETT_hour\n",
    "\n",
    "dl = Dataset_ETT_hour(\n",
    "    None,\n",
    "    root_path=\"/home/user/data/THU-timeseries/ETT-small/\",\n",
    "    # root_path=\"/home/user/data/FrequencyDiffusion/dataset/\",\n",
    "    data_path=\"ETTh1.csv\",\n",
    "    # data_path=\"MFRED.csv\",\n",
    "    flag=\"test\",\n",
    "    size=[96, 48, 96],\n",
    "    freq=\"h\", scale=False\n",
    ")\n",
    "dl = DataLoader(dl, batch_size=128, shuffle=False, drop_last=True)\n",
    "for batch in dl:\n",
    "    seq_x, seq_y, seq_x_mark, seq_y_mark = batch\n",
    "    print(seq_x.shape)\n",
    "    print(seq_x[0, :10])\n",
    "    print(seq_y[0, -96:])\n",
    "    print(seq_x_mark[0,:10])\n",
    "    break"
   ]
  },
  {
   "cell_type": "code",
   "execution_count": 81,
   "metadata": {},
   "outputs": [
    {
     "name": "stdout",
     "output_type": "stream",
     "text": [
      "tensor([[[ 0.1387,  0.1718, -0.1834,  1.0032,  0.4488,  1.3894]]])\n"
     ]
    },
    {
     "data": {
      "text/plain": [
       "tensor([[[ 0.1387,  0.1718,  0.1718, -0.1834,  1.0032,  0.4488,  0.4488,\n",
       "           1.3894]]])"
      ]
     },
     "execution_count": 81,
     "metadata": {},
     "output_type": "execute_result"
    }
   ],
   "source": [
    "import torch\n",
    "\n",
    "seq_len = 8\n",
    "kernel_size = 3\n",
    "a = torch.randn(seq_len).reshape(1, 1, seq_len)\n",
    "avg = torch.nn.AvgPool1d(kernel_size=kernel_size, stride=1)\n",
    "a_avg = avg(a)\n",
    "print(a_avg)\n",
    "a_interp = torch.nn.functional.interpolate(a_avg, size=seq_len, mode='nearest-exact')\n",
    "a_interp"
   ]
  },
  {
   "cell_type": "code",
   "execution_count": 83,
   "metadata": {},
   "outputs": [
    {
     "data": {
      "text/plain": [
       "tensor([[[ 0.1387],\n",
       "         [ 0.1718],\n",
       "         [ 0.1718],\n",
       "         [-0.1834],\n",
       "         [ 1.0032],\n",
       "         [ 0.4488],\n",
       "         [ 0.4488],\n",
       "         [ 1.3894]]])"
      ]
     },
     "execution_count": 83,
     "metadata": {},
     "output_type": "execute_result"
    }
   ],
   "source": [
    "conv = torch.zeros(seq_len, seq_len-kernel_size + 1)\n",
    "start = 0\n",
    "for i in range(conv.shape[1]):\n",
    "    end = start + kernel_size\n",
    "    conv[start:end, i] = 1/kernel_size\n",
    "    start += 1\n",
    "conv = conv.reshape(1, seq_len, seq_len-kernel_size + 1)\n",
    "conv_interp = torch.nn.functional.interpolate(conv, size=seq_len, mode='nearest-exact').squeeze().T\n",
    "\n",
    "# torch.einsum('tl,btc->blc', conv_interp.squeeze(), a.permute(0,2,1))\n",
    "conv_interp @ a.permute(0,2,1)"
   ]
  },
  {
   "cell_type": "code",
   "execution_count": 85,
   "metadata": {},
   "outputs": [
    {
     "data": {
      "text/plain": [
       "tensor([[ 0.6667, -0.2222, -0.2222, -0.1111,  0.0000,  0.0000,  0.0000,  0.0000],\n",
       "        [-0.2222,  0.6667, -0.3333, -0.2222, -0.1111,  0.0000,  0.0000,  0.0000],\n",
       "        [-0.2222, -0.3333,  0.6667, -0.2222, -0.1111,  0.0000,  0.0000,  0.0000],\n",
       "        [-0.1111, -0.2222, -0.2222,  0.6667, -0.2222, -0.1111, -0.1111,  0.0000],\n",
       "        [ 0.0000, -0.1111, -0.1111, -0.2222,  0.6667, -0.2222, -0.2222, -0.1111],\n",
       "        [ 0.0000,  0.0000,  0.0000, -0.1111, -0.2222,  0.6667, -0.3333, -0.2222],\n",
       "        [ 0.0000,  0.0000,  0.0000, -0.1111, -0.2222, -0.3333,  0.6667, -0.2222],\n",
       "        [ 0.0000,  0.0000,  0.0000,  0.0000, -0.1111, -0.2222, -0.2222,  0.6667]])"
      ]
     },
     "execution_count": 85,
     "metadata": {},
     "output_type": "execute_result"
    }
   ],
   "source": [
    "torch.eye(seq_len) - conv_interp @ conv_interp.T"
   ]
  },
  {
   "cell_type": "code",
   "execution_count": 37,
   "metadata": {},
   "outputs": [
    {
     "name": "stdout",
     "output_type": "stream",
     "text": [
      "torch.Size([2, 1, 1])\n",
      "torch.Size([3, 2, 1, 1])\n",
      "tensor([[[[ 0.0513]],\n",
      "\n",
      "         [[ 1.0238]]],\n",
      "\n",
      "\n",
      "        [[[-0.4672]],\n",
      "\n",
      "         [[-0.8953]]],\n",
      "\n",
      "\n",
      "        [[[-0.0870]],\n",
      "\n",
      "         [[ 0.3308]]]])\n"
     ]
    }
   ],
   "source": [
    "import torch\n",
    "a = torch.randn(2, 96, 1)\n",
    "a_mean = a.mean(dim=1, keepdim=True)\n",
    "print(a_mean.shape)\n",
    "noise = torch.randn((3, *a_mean.shape))\n",
    "print(noise.shape)\n",
    "a_mean_noise = a_mean + noise\n",
    "print(a_mean_noise)"
   ]
  },
  {
   "cell_type": "code",
   "execution_count": 18,
   "metadata": {},
   "outputs": [
    {
     "name": "stdout",
     "output_type": "stream",
     "text": [
      "tensor([[[[ 0.6473,  1.6876],\n",
      "          [ 0.7649, -0.7153],\n",
      "          [ 0.6628, -2.2105],\n",
      "          [-1.0683, -1.4461]],\n",
      "\n",
      "         [[-0.8408,  3.9166],\n",
      "          [ 0.7689,  3.3959],\n",
      "          [ 1.4035,  2.3657],\n",
      "          [-1.0246,  3.7916]]],\n",
      "\n",
      "\n",
      "        [[[-0.7536, -1.3219],\n",
      "          [ 2.1606, -0.1201],\n",
      "          [ 2.0112, -0.4738],\n",
      "          [-0.1889, -1.1185]],\n",
      "\n",
      "         [[ 1.5766,  2.7478],\n",
      "          [ 0.0160,  3.2101],\n",
      "          [ 1.1320,  2.0315],\n",
      "          [-1.3659,  3.1250]]]])\n"
     ]
    },
    {
     "data": {
      "text/plain": [
       "tensor([[[ 0.6473,  1.6876],\n",
       "         [ 0.7649, -0.7153],\n",
       "         [ 0.6628, -2.2105],\n",
       "         [-1.0683, -1.4461]],\n",
       "\n",
       "        [[-0.8408,  3.9166],\n",
       "         [ 0.7689,  3.3959],\n",
       "         [ 1.4035,  2.3657],\n",
       "         [-1.0246,  3.7916]],\n",
       "\n",
       "        [[-0.7536, -1.3219],\n",
       "         [ 2.1606, -0.1201],\n",
       "         [ 2.0112, -0.4738],\n",
       "         [-0.1889, -1.1185]],\n",
       "\n",
       "        [[ 1.5766,  2.7478],\n",
       "         [ 0.0160,  3.2101],\n",
       "         [ 1.1320,  2.0315],\n",
       "         [-1.3659,  3.1250]]])"
      ]
     },
     "execution_count": 18,
     "metadata": {},
     "output_type": "execute_result"
    }
   ],
   "source": [
    "import torch\n",
    "a = torch.randn(2, 1, 2)\n",
    "a = a.expand(-1,4,-1)\n",
    "b = torch.randn(2, *a.shape)\n",
    "a = a + b\n",
    "print(a)\n",
    "a.flatten(end_dim=1)"
   ]
  },
  {
   "cell_type": "code",
   "execution_count": 17,
   "metadata": {},
   "outputs": [
    {
     "data": {
      "text/plain": [
       "tensor([[[ 0.8440,  0.3983],\n",
       "         [ 1.8079,  3.6293],\n",
       "         [ 2.4288,  1.1355],\n",
       "         [ 1.2998,  3.5468]],\n",
       "\n",
       "        [[ 1.4144, -1.9098],\n",
       "         [ 2.0635, -1.3511],\n",
       "         [ 2.7374, -0.7609],\n",
       "         [ 2.8206, -0.6089]],\n",
       "\n",
       "        [[-0.0300,  2.0117],\n",
       "         [ 2.0565,  1.9444],\n",
       "         [ 2.4058,  4.1978],\n",
       "         [ 1.8671,  0.9327]],\n",
       "\n",
       "        [[ 3.4994, -0.6885],\n",
       "         [ 1.2738, -1.0749],\n",
       "         [ 1.1243, -1.8621],\n",
       "         [ 0.6856, -1.0254]]])"
      ]
     },
     "execution_count": 17,
     "metadata": {},
     "output_type": "execute_result"
    }
   ],
   "source": [
    "a.reshape(4,4,2)"
   ]
  },
  {
   "cell_type": "code",
   "execution_count": null,
   "metadata": {},
   "outputs": [],
   "source": []
  }
 ],
 "metadata": {
  "kernelspec": {
   "display_name": "venv",
   "language": "python",
   "name": "python3"
  },
  "language_info": {
   "codemirror_mode": {
    "name": "ipython",
    "version": 3
   },
   "file_extension": ".py",
   "mimetype": "text/x-python",
   "name": "python",
   "nbconvert_exporter": "python",
   "pygments_lexer": "ipython3",
   "version": "3.10.14"
  },
  "vscode": {
   "interpreter": {
    "hash": "4d50082ca3605edaedbc537b9ac34a583897f1c451fa7fce6362ff0a321b45ee"
   }
  }
 },
 "nbformat": 4,
 "nbformat_minor": 2
}
