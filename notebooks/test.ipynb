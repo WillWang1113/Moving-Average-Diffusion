{
 "cells": [
  {
   "cell_type": "code",
   "execution_count": null,
   "metadata": {},
   "outputs": [],
   "source": [
    "import scipy.signal\n",
    "import torch\n",
    "from src.utils.fourier import dft, idft\n",
    "import matplotlib.pyplot as plt\n",
    "import scipy\n",
    "import numpy as np\n",
    "# from src.utils.filters import MovingAvg\n",
    "from src.utils.fourier import sphere2complex, complex2sphere\n",
    "\n",
    "# def moving_average_freq_response(N, sample_rate, freq):\n",
    "#     omega = 2 * torch.pi * freq / sample_rate\n",
    "#     # SMA coefficients\n",
    "#     b = np.ones(N)\n",
    "#     a = np.array([N] + [0]*(N-1))\n",
    "\n",
    "#     # Calculate the frequency response\n",
    "#     w, h = scipy.signal.freqz(b, a, worN=omega)\n",
    "#     # w *= sample_rate / (2 * np.pi)                      # Convert from rad/sample to Hz\n",
    "#     return h\n",
    "\n",
    "def moving_average_freq_response(N, sample_rate, freq):\n",
    "    omega = 2 * torch.pi * freq / sample_rate\n",
    "    coeff = torch.exp(-1j * omega * (N - 1) / 2) / N\n",
    "    omega = torch.where(omega == 0, 1e-5, omega)\n",
    "    Hw = coeff * torch.sin(omega * N / 2) / torch.sin(omega / 2)\n",
    "    return Hw\n",
    "\n",
    "# def moving_avg(x, N):\n",
    "#     avg = torch.nn.AvgPool1d(kernel_size=N, stride=1)\n",
    "#     front = x[:, 0:1, :].repeat(1, N // 2, 1)\n",
    "#     end = x[:, -1:, :].repeat(1, N - 1 - N // 2, 1)\n",
    "#     x = torch.cat([front, x, end], dim=1)\n",
    "#     x = avg(x.permute(0, 2, 1))\n",
    "#     x = x.permute(0, 2, 1)\n",
    "#     return x\n",
    "\n"
   ]
  },
  {
   "cell_type": "markdown",
   "metadata": {},
   "source": [
    "original signal"
   ]
  },
  {
   "cell_type": "code",
   "execution_count": null,
   "metadata": {},
   "outputs": [],
   "source": [
    "t = torch.linspace(0, 4*torch.pi, 200)\n",
    "sample_rate = len(t)/(t.max()-t.min())\n",
    "x = torch.sin(t) + torch.sin(2*t) + 0.3*torch.sin(12*t) + 0.1*torch.randn(t.shape)\n",
    "x_freq = torch.fft.rfft(x)\n",
    "theta, phi = complex2sphere(x_freq.real, x_freq.imag)\n",
    "\n",
    "freq = torch.fft.rfftfreq(len(t), 1/sample_rate)\n",
    "mag = x_freq.abs()\n",
    "phase = x_freq.angle()\n",
    "phase[torch.abs(phase) < 1] = 0\n",
    "fig, axs = plt.subplots(3)\n",
    "axs[0].plot(t, x)\n",
    "# axs[1].plot(freq, x_freq.real)\n",
    "# axs[2].plot(freq, x_freq.imag)\n",
    "axs[1].plot(freq, theta)\n",
    "axs[2].plot(freq, phi)\n",
    "fig.tight_layout()"
   ]
  },
  {
   "cell_type": "markdown",
   "metadata": {},
   "source": [
    "manuplate on the frequency domain"
   ]
  },
  {
   "cell_type": "code",
   "execution_count": null,
   "metadata": {},
   "outputs": [],
   "source": [
    "N = 20\n",
    "h = moving_average_freq_response(N, sample_rate=sample_rate, freq=freq)\n",
    "x_freq_new = x_freq * h\n",
    "mag = x_freq_new.abs()\n",
    "phase = x_freq_new.angle()\n",
    "x_new = torch.fft.irfft(x_freq_new)\n",
    "x_new_avgpool = torch.nn.functional.avg_pool1d(x.reshape(1,1,-1), N,N).permute(0,2,1)\n",
    "fig, axs = plt.subplots(3)\n",
    "# axs[0].plot(x_new)\n",
    "axs[0].plot(t, x_new)\n",
    "axs[0].scatter(t[N-1::N], x_new[N-1::N])\n",
    "axs[0].scatter(t[N-1::N], x_new_avgpool.flatten())\n",
    "axs[1].plot(freq, mag)\n",
    "axs[2].plot(freq, phase)"
   ]
  },
  {
   "cell_type": "markdown",
   "metadata": {},
   "source": [
    "manuplate on the time domain"
   ]
  },
  {
   "cell_type": "code",
   "execution_count": null,
   "metadata": {},
   "outputs": [],
   "source": [
    "from src.utils.filters import MovingAvgTime\n",
    "\n",
    "\n",
    "x_new = MovingAvgTime(x.reshape(1, -1, 1), N).flatten()\n",
    "# x_new = np.convolve(np.concatenate([x[-N+1:],x]), np.ones(N)/N, mode='valid')\n",
    "x_freq = torch.fft.rfft(x_new)\n",
    "freq = torch.fft.rfftfreq(len(t), 1/sample_rate)\n",
    "mag = x_freq.abs()\n",
    "phase = x_freq.angle()\n",
    "\n",
    "# mag = x_freq_new.abs()\n",
    "# phase = x_freq_new.angle()\n",
    "# # print(phase)\n",
    "# x = torch.fft.irfft(x_freq_new)\n",
    "print(x_new[N//2:-N//2])\n",
    "fig, axs = plt.subplots(3)\n",
    "axs[0].plot(x_new[N//2:-N//2])\n",
    "# axs[1].plot(freq, mag)\n",
    "# axs[2].plot(freq, phase)"
   ]
  },
  {
   "cell_type": "code",
   "execution_count": null,
   "metadata": {},
   "outputs": [],
   "source": [
    "import torch\n",
    "from src.models.diffusion import MovingAvgDiffusion\n",
    "from src.models.backbone import MLPBackbone\n",
    "from src.utils.filters import get_factors, MovingAvgTime\n",
    "import matplotlib.pyplot as plt\n",
    "\n",
    "seq_len = 800\n",
    "# bb = MLPBackbone(1,seq_len,10,1)\n",
    "# m = MovingAvgDiffusion(backbone=bb)\n",
    "\n",
    "\n",
    "# t = torch.linspace(0, 8*torch.pi, seq_len)\n",
    "# sample_rate = len(t)/(t.max()-t.min())\n",
    "# x = torch.sin(t) + 0.3*torch.sin(2*t)\n",
    "x = torch.arange(5).repeat(3).reshape(1,-1,1).float()\n",
    "# print(x)\n",
    "# x = torch.arange(30).reshape(5,seq_len,1).float()\n",
    "\n",
    "# factors = get_factors(seq_len) + [seq_len]\n",
    "factors = list(range(2, x.shape[1]+1))\n",
    "for f in factors:\n",
    "    mat = MovingAvgTime(f, stride=1)\n",
    "    x_filtered = mat(x)\n",
    "    # if (f%10==0) or (f == factors[-1]):\n",
    "    fig, ax = plt.subplots()\n",
    "    ax.plot(x_filtered.flatten())\n",
    "    ax.set_title(f)\n",
    "    # ax.set_ylim([-2.3,2.3])\n",
    "        # fig.savefig(f'{f}.png')\n",
    "\n",
    "\n",
    "\n",
    "# t = torch.randint(0, len(get_factors(seq_len)), (x.shape[0],))\n",
    "# print(get_factors(seq_len))\n",
    "# print(t)\n",
    "# m.forward(x, t)\n",
    "\n",
    "# list(range(6, 0, -1))"
   ]
  }
 ],
 "metadata": {
  "kernelspec": {
   "display_name": "freqdiff",
   "language": "python",
   "name": "python3"
  },
  "language_info": {
   "codemirror_mode": {
    "name": "ipython",
    "version": 3
   },
   "file_extension": ".py",
   "mimetype": "text/x-python",
   "name": "python",
   "nbconvert_exporter": "python",
   "pygments_lexer": "ipython3",
   "version": "3.12.2"
  }
 },
 "nbformat": 4,
 "nbformat_minor": 2
}
