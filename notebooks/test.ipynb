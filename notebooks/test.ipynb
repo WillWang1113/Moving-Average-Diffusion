{
 "cells": [
  {
   "cell_type": "code",
   "execution_count": 11,
   "metadata": {},
   "outputs": [
    {
     "name": "stdout",
     "output_type": "stream",
     "text": [
      "torch.Size([1, 1001, 1])\n"
     ]
    }
   ],
   "source": [
    "# import torch\n",
    "# from src.utils.fourier import dft, idft\n",
    "\n",
    "# t = torch.linspace(0, 2*torch.pi, 1001).reshape(1, -1, 1)\n",
    "# y = torch.sin(t)\n",
    "\n",
    "# fft_y = torch.fft.fft(y, dim=1)\n",
    "\n"
   ]
  }
 ],
 "metadata": {
  "kernelspec": {
   "display_name": "freqdiff",
   "language": "python",
   "name": "python3"
  },
  "language_info": {
   "codemirror_mode": {
    "name": "ipython",
    "version": 3
   },
   "file_extension": ".py",
   "mimetype": "text/x-python",
   "name": "python",
   "nbconvert_exporter": "python",
   "pygments_lexer": "ipython3",
   "version": "3.12.2"
  }
 },
 "nbformat": 4,
 "nbformat_minor": 2
}
